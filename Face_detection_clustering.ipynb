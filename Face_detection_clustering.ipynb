{
 "cells": [
  {
   "cell_type": "markdown",
   "metadata": {},
   "source": [
    "# Importing libraries"
   ]
  },
  {
   "cell_type": "code",
   "execution_count": null,
   "metadata": {},
   "outputs": [],
   "source": [
    "import cv2\n",
    "import numpy as np\n",
    "import matplotlib.pyplot as plt\n",
    "%matplotlib inline\n",
    "import numpy as np\n",
    "import os\n",
    "import dlib\n",
    "from mtcnn.mtcnn import MTCNN\n",
    "from sklearn.cluster import KMeans\n",
    "from sklearn.metrics import silhouette_score\n",
    "import pandas as pd\n",
    "import face_recognition\n",
    "from yellowbrick.cluster import KElbowVisualizer\n",
    "from sklearn.cluster import MiniBatchKMeans"
   ]
  },
  {
   "cell_type": "code",
   "execution_count": null,
   "metadata": {},
   "outputs": [],
   "source": [
    "def rotate_image(image, angle):\n",
    "    image_center = tuple(np.array(image.shape[1::-1]) / 2)\n",
    "    rot_mat = cv2.getRotationMatrix2D(image_center, angle, 1.0)\n",
    "    result = cv2.warpAffine(image, rot_mat, image.shape[1::-1], flags=cv2.INTER_LINEAR)\n",
    "    return result"
   ]
  },
  {
   "cell_type": "markdown",
   "metadata": {},
   "source": [
    "# Face detection and alignment"
   ]
  },
  {
   "cell_type": "code",
   "execution_count": null,
   "metadata": {},
   "outputs": [],
   "source": [
    "def face_align(image, direc = ''):\n",
    "    base_dir = os.getcwd()\n",
    "    img = cv2.imread(base_dir+'/'+direc+image)\n",
    "    faces = detector.detect_faces(img)# result\n",
    "    #to draw faces on image\n",
    "    c = 0\n",
    "    L = []\n",
    "    for result in faces:\n",
    "        x, y, w, h = result['box']\n",
    "        if result['confidence'] > 0.985:\n",
    "            x1, y1 = x + w, y + h\n",
    "            left_eye = result['keypoints']['left_eye']\n",
    "            right_eye = result['keypoints']['right_eye']\n",
    "            angle = np.arctan((right_eye[1]-left_eye[1])/(right_eye[0]-left_eye[0]))*(180/3.14)\n",
    "            face = img[y:y1, x:x1]\n",
    "            aligned_face = cv2.resize(rotate_image(face, angle), (150, 150))\n",
    "            L.append(aligned_face)\n",
    "    return L"
   ]
  },
  {
   "cell_type": "markdown",
   "metadata": {},
   "source": [
    "# Creating/saving faces "
   ]
  },
  {
   "cell_type": "code",
   "execution_count": null,
   "metadata": {},
   "outputs": [],
   "source": [
    "base_dir = os.getcwd()\n",
    "\n",
    "if not os.path.exists('Faces'):\n",
    "    print(\"New directory created\")\n",
    "    os.makedirs('Faces')\n",
    "    \n",
    "count = 0\n",
    "detector = MTCNN()\n",
    "num = len(os.listdir(base_dir + '/camera'))\n",
    "for k in range(num): #file in os.listdir(base_dir + '/Camera'):\n",
    "    file = os.listdir(base_dir + '/camera')[k]\n",
    "    file_name, file_extension = os.path.splitext(file)\n",
    "    if (file_extension in ['.png','.jpg']):\n",
    "        faces = face_align(file, 'camera/')\n",
    "        c = 0\n",
    "        os.sys.stdout.write('\\r')\n",
    "        os.sys.stdout.write(\"[%-100s] %d%%\" % ('='*((k*100)//num), ((k*100)//num)))\n",
    "        os.sys.stdout.flush()\n",
    "        for face in faces:\n",
    "            cv2.imwrite(base_dir+'/Faces/'+file+str(c)+'.jpg', face)\n",
    "            c = c+1\n",
    "            count = count + 1\n",
    "print ('\\nfound '+str(count)+' faces')"
   ]
  },
  {
   "cell_type": "markdown",
   "metadata": {},
   "source": [
    "# Face encoding array"
   ]
  },
  {
   "cell_type": "code",
   "execution_count": null,
   "metadata": {},
   "outputs": [],
   "source": [
    "base_dir = os.getcwd()\n",
    "num = len(os.listdir(base_dir + '/Faces'))\n",
    "\n",
    "images = os.listdir(base_dir + '/Faces')\n",
    "\n",
    "num = len(images)\n",
    "\n",
    "arrx = np.zeros((num,128))\n",
    "img_arr = np.zeros((num,150,150,3))\n",
    "i = 0\n",
    "img_names = []\n",
    "for img_file in images:\n",
    "    image = cv2.imread(base_dir + '/Faces/'+img_file)\n",
    "    try:\n",
    "        encoding = np.array(face_recognition.face_encodings(image, known_face_locations=[(0, 150, 150, 0)])[0])\n",
    "        arrx[i,:] = encoding\n",
    "        img_arr[i,:,:,:] = image\n",
    "        img_names.append(img_file)\n",
    "        i = i +1\n",
    "    except:\n",
    "        pass"
   ]
  },
  {
   "cell_type": "code",
   "execution_count": null,
   "metadata": {},
   "outputs": [],
   "source": [
    "arrx.shape"
   ]
  },
  {
   "cell_type": "markdown",
   "metadata": {},
   "source": [
    "# Finding optimum cluster number"
   ]
  },
  {
   "cell_type": "code",
   "execution_count": null,
   "metadata": {},
   "outputs": [],
   "source": [
    "model = KMeans()\n",
    "# k is range of number of clusters.\n",
    "visualizer = KElbowVisualizer(model, k=(5,30), timings= True)\n",
    "visualizer.fit(arrx)        # Fit data to visualizer\n",
    "visualizer.show()        # Finalize and render figure"
   ]
  },
  {
   "cell_type": "code",
   "execution_count": null,
   "metadata": {},
   "outputs": [],
   "source": [
    "range_n_clusters = list (range(5,30))\n",
    "x=[]\n",
    "y=[]\n",
    "for n_clusters in range_n_clusters:\n",
    "    clusterer = KMeans(n_clusters=n_clusters,init='k-means++',max_iter=300,n_init=50)\n",
    "    preds = clusterer.fit_predict(arrx)\n",
    "    #centers = clusterer.cluster_centers_\n",
    "\n",
    "    score = silhouette_score(arrx, preds)\n",
    "    #print(\"For n_clusters = {}, silhouette score is {})\".format(n_clusters, score))\n",
    "    x.append(n_clusters)\n",
    "    y.append(score)\n",
    "n_clusters=x[y.index(max(y))]\n",
    "print(n_clusters) #to print cluster number with max silhouette score\n",
    "\n",
    "plt.plot(x, y) \n",
    "plt.xlabel('number of clusters (k)')  \n",
    "plt.ylabel('Silhouette score') \n",
    "plt.title('Silhouette score for Kmeans clustering')\n",
    "plt.savefig('k-means_silhouetter_score.png',facecolor='w',edgecolor='w', transparent=False)\n",
    "plt.show() "
   ]
  },
  {
   "cell_type": "markdown",
   "metadata": {},
   "source": [
    "# Kmeans clustering"
   ]
  },
  {
   "cell_type": "code",
   "execution_count": null,
   "metadata": {},
   "outputs": [],
   "source": [
    "k = 18\n",
    "clusters = KMeans(k, random_state = 40)\n",
    "clusters.fit(arrx)\n",
    "image_cluster = pd.DataFrame(img_names[0:277],columns=['image'])\n",
    "image_cluster[\"clusterid\"] = clusters.labels_\n",
    "image_cluster\n",
    "label = clusters.labels_\n",
    "\n",
    "for j in range(k):\n",
    "    result = np.where(label == j)\n",
    "    if not os.path.exists('Category'+str(j)):\n",
    "        print(\"New directory created\")\n",
    "        os.makedirs('Category'+str(j))\n",
    "    for i in result[0]:\n",
    "        img = np.float32(img_arr[i,:].reshape((150,150,3)))\n",
    "        cv2.imwrite(os.getcwd()+'/Category'+str(j)+'/img'+str(j)+str(i)+'.png', img)"
   ]
  },
  {
   "cell_type": "markdown",
   "metadata": {
    "scrolled": false
   },
   "source": [
    "# Minibatch Kmeans clustering"
   ]
  },
  {
   "cell_type": "code",
   "execution_count": null,
   "metadata": {},
   "outputs": [],
   "source": [
    "total_clusters = 11\n",
    "# Initialize the K-Means model\n",
    "kmeans = MiniBatchKMeans(n_clusters = total_clusters)\n",
    "# Fitting the model to training set\n",
    "kmeans.fit(arx)\n",
    "label = kmeans.labels_\n",
    "for j in range(total_clusters):\n",
    "    result = np.where(label == j)\n",
    "    if not os.path.exists('Category'+str(j)):\n",
    "        print(\"New directory created\")\n",
    "        os.makedirs('Category'+str(j))\n",
    "    for i in result[0]:\n",
    "        img = np.float32(img_arr[i,:].reshape((150,150,3)))\n",
    "        cv2.imwrite(os.getcwd()+'/Category'+str(j)+'/img'+str(j)+str(i)+'.png', img)"
   ]
  },
  {
   "cell_type": "code",
   "execution_count": null,
   "metadata": {},
   "outputs": [],
   "source": []
  }
 ],
 "metadata": {
  "kernelspec": {
   "display_name": "Python 3",
   "language": "python",
   "name": "python3"
  },
  "language_info": {
   "codemirror_mode": {
    "name": "ipython",
    "version": 3
   },
   "file_extension": ".py",
   "mimetype": "text/x-python",
   "name": "python",
   "nbconvert_exporter": "python",
   "pygments_lexer": "ipython3",
   "version": "3.6.9"
  }
 },
 "nbformat": 4,
 "nbformat_minor": 2
}
