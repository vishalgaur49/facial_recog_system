{
 "cells": [
  {
   "cell_type": "markdown",
   "metadata": {},
   "source": [
    "# Importing libraries"
   ]
  },
  {
   "cell_type": "code",
   "execution_count": null,
   "metadata": {},
   "outputs": [],
   "source": [
    "import numpy as np\n",
    "import matplotlib.pyplot as plt\n",
    "import cv2\n",
    "import os\n",
    "from sklearn.model_selection import train_test_split\n",
    "from PIL import Image\n",
    "from keras.models import Sequential\n",
    "from sklearn.preprocessing import LabelEncoder\n",
    "from keras.utils.np_utils import to_categorical\n",
    "import face_recognition\n",
    "from keras.layers import Dense, Dropout, Conv2D, MaxPooling2D,Activation,Flatten,Conv1D,MaxPooling1D\n",
    "from keras.utils import np_utils\n",
    "# to calculate accuracy\n",
    "from tensorflow.keras.optimizers import SGD\n",
    "from sklearn.metrics import accuracy_score\n",
    "from keras.layers import BatchNormalization\n",
    "from keras.layers.advanced_activations import LeakyReLU\n",
    "import dlib\n",
    "import face_recognition"
   ]
  },
  {
   "cell_type": "markdown",
   "metadata": {},
   "source": [
    "# Make X data using face_encoder"
   ]
  },
  {
   "cell_type": "code",
   "execution_count": null,
   "metadata": {},
   "outputs": [],
   "source": [
    "base_dir = os.getcwd()\n",
    "folders = os.listdir(base_dir+'/data/')\n",
    "\n",
    "categories = len(folders)\n",
    "\n",
    "arrx = np.zeros((1,128))\n",
    "arry = np.zeros((1,))\n",
    "names = []\n",
    "count = 0\n",
    "cate = 0\n",
    "for folder in folders:\n",
    "    images = os.listdir(base_dir+'/data/'+folder)\n",
    "    images.sort()\n",
    "    names.append(folder)\n",
    "    cate = cate + 1\n",
    "    for image in images:\n",
    "        im = cv2.imread(base_dir+'/data/'+folder+'/'+image)\n",
    "        encoding = np.array(face_recognition.face_encodings(im, known_face_locations=[(0, 150, 150, 0)])[0])\n",
    "        if count == 0:\n",
    "            arrx[0,:] = encoding\n",
    "            arry[0,] = np.array(cate)\n",
    "            count = count + 1\n",
    "        else:\n",
    "            arrx = np.concatenate((arrx,encoding.reshape((1,128))), axis = 0)\n",
    "            arry = np.concatenate((arry,np.array(cate).reshape((1,))), axis = 0)"
   ]
  },
  {
   "cell_type": "code",
   "execution_count": null,
   "metadata": {},
   "outputs": [],
   "source": [
    "arrx.shape"
   ]
  },
  {
   "cell_type": "code",
   "execution_count": null,
   "metadata": {},
   "outputs": [],
   "source": [
    "print(names)"
   ]
  },
  {
   "cell_type": "markdown",
   "metadata": {},
   "source": [
    "# label_encoder"
   ]
  },
  {
   "cell_type": "code",
   "execution_count": null,
   "metadata": {},
   "outputs": [],
   "source": [
    "lb = LabelEncoder()\n",
    "Ydata = to_categorical(lb.fit_transform(arry))"
   ]
  },
  {
   "cell_type": "code",
   "execution_count": null,
   "metadata": {},
   "outputs": [],
   "source": [
    "xdata, xtest, ydata, ytest = train_test_split(arrx, Ydata, test_size=0.25)"
   ]
  },
  {
   "cell_type": "markdown",
   "metadata": {},
   "source": [
    "# simple model to use in face_encoder"
   ]
  },
  {
   "cell_type": "code",
   "execution_count": null,
   "metadata": {},
   "outputs": [],
   "source": [
    "model = Sequential()\n",
    "model.add(Dense(64, input_dim=128, activation='relu'))\n",
    "#model.add(Dense(64, activation='relu'))\n",
    "model.add(Dense(32, activation='relu'))\n",
    "#model.add(Dense(16, activation='relu'))\n",
    "#model.add(Dense(256, activation='relu'))\n",
    "model.add(Dense(categories, activation='softmax'))\n",
    "\n",
    "opt = SGD(learning_rate=0.01, momentum=0.9)\n",
    "model.compile(optimizer=opt, loss='categorical_crossentropy', metrics=['accuracy'])"
   ]
  },
  {
   "cell_type": "code",
   "execution_count": null,
   "metadata": {},
   "outputs": [],
   "source": [
    "model.summary()"
   ]
  },
  {
   "cell_type": "code",
   "execution_count": null,
   "metadata": {},
   "outputs": [],
   "source": [
    "history = model.fit(xdata, ydata, epochs=300, batch_size=16, validation_data=(xtest, ytest), verbose=1)"
   ]
  },
  {
   "cell_type": "code",
   "execution_count": null,
   "metadata": {},
   "outputs": [],
   "source": [
    "model.save('best_fit3')"
   ]
  },
  {
   "cell_type": "code",
   "execution_count": null,
   "metadata": {},
   "outputs": [],
   "source": [
    "test_arrx = np.zeros((1,128))\n",
    "im = cv2.imread('test1.jpg')\n",
    "encoding = np.array(face_recognition.face_encodings(im)[0])\n",
    "test_arrx[0,:] = encoding\n",
    "\n",
    "predictions = model.predict(test_arrx,batch_size=128)\n",
    "\n",
    "classes = np.argmax(predictions, axis = 1)\n",
    "\n",
    "names[classes[0]]"
   ]
  },
  {
   "cell_type": "code",
   "execution_count": null,
   "metadata": {},
   "outputs": [],
   "source": []
  },
  {
   "cell_type": "code",
   "execution_count": null,
   "metadata": {},
   "outputs": [],
   "source": []
  }
 ],
 "metadata": {
  "kernelspec": {
   "display_name": "Python 3",
   "language": "python",
   "name": "python3"
  },
  "language_info": {
   "codemirror_mode": {
    "name": "ipython",
    "version": 3
   },
   "file_extension": ".py",
   "mimetype": "text/x-python",
   "name": "python",
   "nbconvert_exporter": "python",
   "pygments_lexer": "ipython3",
   "version": "3.6.9"
  }
 },
 "nbformat": 4,
 "nbformat_minor": 5
}
