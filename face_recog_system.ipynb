{
 "cells": [
  {
   "cell_type": "markdown",
   "metadata": {},
   "source": [
    "# Importing libraries"
   ]
  },
  {
   "cell_type": "code",
   "execution_count": null,
   "metadata": {},
   "outputs": [],
   "source": [
    "import numpy as np\n",
    "import matplotlib.pyplot as plt\n",
    "import cv2\n",
    "import os\n",
    "import face_recognition\n",
    "from PIL import Image\n",
    "import keras\n",
    "from mtcnn.mtcnn import MTCNN\n",
    "import dlib"
   ]
  },
  {
   "cell_type": "markdown",
   "metadata": {},
   "source": [
    "# Importing models"
   ]
  },
  {
   "cell_type": "code",
   "execution_count": null,
   "metadata": {},
   "outputs": [],
   "source": [
    "names = ['shivani_di', 'harsh', 'chinki_di', 'manu_bhaiya', 'ashu_bhaiya', 'shruti_di', 'tanu', 'prerna', 'puneeth', 'priya', 'siddhant', 'chitiz', 'papa', 'neha_di', 'rachi', 'nikki_di', 'mumma', 'celina', 'shubhangi', 'Vishal', 'akash_bhai', 'annu_di', 'happy_bhaiya', 'sunny_bhaiya']\n",
    "\n",
    "model1 = keras.models.load_model('best_fit3')\n",
    "\n",
    "base_dir = os.getcwd()\n",
    "prototxt_path = os.path.join(base_dir + '/deploy.prototxt')\n",
    "caffemodel_path = os.path.join(base_dir + '/weights.caffemodel')\n",
    "\n",
    "# Read the model\n",
    "model = cv2.dnn.readNetFromCaffe(prototxt_path, caffemodel_path)\n",
    "base_dir = os.getcwd()\n",
    "detector = MTCNN()\n",
    "cap = cv2.VideoCapture(0)\n",
    "cap.set(3,640) # set Width\n",
    "cap.set(4,480) # set Height\n",
    "a = 0"
   ]
  },
  {
   "cell_type": "markdown",
   "metadata": {},
   "source": [
    "# Video capture"
   ]
  },
  {
   "cell_type": "code",
   "execution_count": null,
   "metadata": {},
   "outputs": [],
   "source": [
    "while(True):\n",
    "\tret, frame = cap.read()\n",
    "\t(h, w) = frame.shape[:2]\n",
    "\tblob = cv2.dnn.blobFromImage(cv2.resize(frame, (300, 300)), 1.0, (300, 300), (104.0, 177.0, 123.0))\n",
    "\tmodel.setInput(blob)\n",
    "\tdetections = model.forward()\n",
    "\n",
    "\t# Identify each face\n",
    "\tfor i in range(0, detections.shape[2]):\n",
    "\t\tbox = detections[0, 0, i, 3:7] * np.array([w, h, w, h])\n",
    "\t\t(startX, startY, endX, endY) = box.astype(\"int\")\n",
    "\t\tconfidence = detections[0, 0, i, 2]\n",
    "\t\t# If confidence > 0.5, save it as a separate file\n",
    "\t\tif (confidence > 0.5):\n",
    "\t\t\ttry:\n",
    "\t\t\t\tcv2.rectangle(frame, (startX, startY), (endX, endY), (255, 255, 255), 1)\n",
    "\t\t\t\timage = frame[startY:endY, startX:endX]\n",
    "\t\t\t\tdata = cv2.resize(image, (150, 150))\n",
    "\t\t\t\tarrx = np.array(face_recognition.face_encodings(data, known_face_locations=[(0, 150, 150, 0)])[0]).reshape((1,128))\n",
    "\t\t\t\t#im_pillow = np.array(img).reshape((1,150,150,3))\n",
    "\t\t\t\tpredictions = model1.predict(arrx,batch_size=128)\n",
    "\t\t\t\tclasses = np.argmax(predictions, axis = 1)\n",
    "\t\t\t\tcv2.putText(frame, names[classes[0]], (startX, startY), cv2.FONT_HERSHEY_SIMPLEX,0.75, (0, 255, 0), 2)\n",
    "\t\t\t\t#print (names[classes[0]])\n",
    "\t\t\texcept:\n",
    "\t\t\t\tpass\n",
    "\t\t#output = cv2.resize(frame, (960, 540))\n",
    "\t\tcv2.imshow('frame', frame)\n",
    "\tk = cv2.waitKey(30) & 0xff\n",
    "\tif k == 27: # press 'ESC' to quit\n",
    "\t\tbreak\n",
    "cap.release()\n",
    "cv2.destroyAllWindows()"
   ]
  },
  {
   "cell_type": "code",
   "execution_count": null,
   "metadata": {},
   "outputs": [],
   "source": []
  },
  {
   "cell_type": "code",
   "execution_count": null,
   "metadata": {},
   "outputs": [],
   "source": []
  }
 ],
 "metadata": {
  "kernelspec": {
   "display_name": "Python 3",
   "language": "python",
   "name": "python3"
  },
  "language_info": {
   "codemirror_mode": {
    "name": "ipython",
    "version": 3
   },
   "file_extension": ".py",
   "mimetype": "text/x-python",
   "name": "python",
   "nbconvert_exporter": "python",
   "pygments_lexer": "ipython3",
   "version": "3.6.9"
  }
 },
 "nbformat": 4,
 "nbformat_minor": 5
}
